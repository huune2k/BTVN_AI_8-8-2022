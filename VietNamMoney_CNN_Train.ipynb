{
  "nbformat": 4,
  "nbformat_minor": 0,
  "metadata": {
    "colab": {
      "name": "VietNamMoney_CNN_Train",
      "provenance": [],
      "collapsed_sections": [],
      "authorship_tag": "ABX9TyMJJhxJRTHRavme35Z/UEQw",
      "include_colab_link": true
    },
    "kernelspec": {
      "name": "python3",
      "display_name": "Python 3"
    },
    "language_info": {
      "name": "python"
    },
    "accelerator": "GPU"
  },
  "cells": [
    {
      "cell_type": "markdown",
      "metadata": {
        "id": "view-in-github",
        "colab_type": "text"
      },
      "source": [
        "<a href=\"https://colab.research.google.com/github/huune2k/BTVN_AI_8-8-2022/blob/main/VietNamMoney_CNN_Train.ipynb\" target=\"_parent\"><img src=\"https://colab.research.google.com/assets/colab-badge.svg\" alt=\"Open In Colab\"/></a>"
      ]
    },
    {
      "cell_type": "code",
      "execution_count": null,
      "metadata": {
        "colab": {
          "base_uri": "https://localhost:8080/"
        },
        "id": "j5NcGHkSTG95",
        "outputId": "eb24afb4-4acb-4522-af0c-dc13c7dac7ae"
      },
      "outputs": [
        {
          "output_type": "stream",
          "name": "stdout",
          "text": [
            "Drive already mounted at /content/gdrive; to attempt to forcibly remount, call drive.mount(\"/content/gdrive\", force_remount=True).\n"
          ]
        }
      ],
      "source": [
        "from google.colab import drive\n",
        "\n",
        "drive.mount('/content/gdrive')"
      ]
    },
    {
      "cell_type": "code",
      "source": [
        "import tensorflow as tf\n",
        "from pathlib import Path\n",
        "\n",
        "direction = Path('/content/gdrive/MyDrive/AI_TranTrongHuu_18146132/VietNamMoney_Data')"
      ],
      "metadata": {
        "id": "l9010rAYTHwA"
      },
      "execution_count": null,
      "outputs": []
    },
    {
      "cell_type": "code",
      "source": [
        "# create dataset from file list \n",
        "filelist_ds = tf.data.Dataset.list_files(str(direction/'*/*'))\n",
        "\n",
        "ds_size = 540 #number of img\n",
        "train_size = int(ds_size*0.8)\n",
        "val_size = int(ds_size*0.2)\n",
        "\n",
        "filelist_ds = filelist_ds.shuffle(ds_size) #trộn\n",
        "train_file = filelist_ds.take(train_size) \n",
        "val_file = filelist_ds.take(val_size) \n",
        "\n",
        "for file in filelist_ds.take(3):\n",
        "  print(file)"
      ],
      "metadata": {
        "colab": {
          "base_uri": "https://localhost:8080/"
        },
        "id": "XFqyA6qxWZBl",
        "outputId": "b2366c4e-da08-4a57-b8da-7a2fa662f51c"
      },
      "execution_count": null,
      "outputs": [
        {
          "output_type": "stream",
          "name": "stdout",
          "text": [
            "tf.Tensor(b'/content/gdrive/MyDrive/AI_TranTrongHuu_18146132/VietNamMoney_Data/2/2K 1.jpeg', shape=(), dtype=string)\n",
            "tf.Tensor(b'/content/gdrive/MyDrive/AI_TranTrongHuu_18146132/VietNamMoney_Data/50/50K 57.jpeg', shape=(), dtype=string)\n",
            "tf.Tensor(b'/content/gdrive/MyDrive/AI_TranTrongHuu_18146132/VietNamMoney_Data/10/10K 56.jpeg', shape=(), dtype=string)\n"
          ]
        }
      ]
    },
    {
      "cell_type": "code",
      "source": [
        "# gán label from dataset\n",
        "def get_label(file_path):\n",
        "  labels = []\n",
        "  parts = tf.strings.split(file_path,'/')\n",
        "  text = parts[-2]\n",
        "  text_split = tf.strings.split(text,'.')\n",
        "  number_label = int(text_split[0])\n",
        "  labels = [1 if x == number_label else 0 for x in range(1,10,1)]\n",
        "  return tf.convert_to_tensor(labels) "
      ],
      "metadata": {
        "id": "rkDf_BN-XSbG"
      },
      "execution_count": null,
      "outputs": []
    },
    {
      "cell_type": "code",
      "source": [
        "#preprocessing\n",
        "img_h = 100\n",
        "img_w = 200\n",
        "\n",
        "def preprocessing(file_path):\n",
        "  #read file\n",
        "  img = tf.io.read_file(file_path)\n",
        "  img = tf.image.decode_jpeg(img, channels=3)\n",
        "\n",
        "  #convert from unit8 to float32 and normalize value to[0,1]\n",
        "  img = tf.image.convert_image_dtype(img, tf.float32)\n",
        "\n",
        "  #resize\n",
        "  img = tf.image.resize(img,[img_h, img_w])\n",
        "\n",
        "  #get image label\n",
        "  label = get_label(file_path)\n",
        "  return img, label"
      ],
      "metadata": {
        "id": "YwqO_NnEYd7g"
      },
      "execution_count": null,
      "outputs": []
    },
    {
      "cell_type": "code",
      "source": [
        "import numpy as np\n",
        "\n",
        "batch_size = 32\n",
        "\n",
        "# Build train dataset\n",
        "train_ds = filelist_ds.shuffle(train_size)\n",
        "train_ds = train_ds.map(preprocessing, num_parallel_calls=tf.data.AUTOTUNE)\n",
        "#train_ds = train_ds.map(lambda x:tf.function(preprocessing, [x], [tf.float32,tf.int32]))\n",
        "train_ds = train_ds.batch(batch_size)\n",
        "train_ds = train_ds.prefetch(1)\n",
        "\n",
        "# Build val dataset\n",
        "val_ds = filelist_ds.shuffle(val_size)\n",
        "val_ds = val_ds.map(preprocessing, num_parallel_calls=tf.data.AUTOTUNE)\n",
        "#val_ds = val_ds.map(lambda x:tf.function(preprocessing, [x], [tf.float32,tf.int32]))\n",
        "val_ds = val_ds.batch(batch_size)\n",
        "val_ds = val_ds.prefetch(1)\n",
        "''' \n",
        "for file in train_ds.take(3):\n",
        "  print(file)  '''\n",
        "\n",
        "print(train_ds)\n",
        "print(val_ds)"
      ],
      "metadata": {
        "colab": {
          "base_uri": "https://localhost:8080/"
        },
        "id": "w97R0IvUdRak",
        "outputId": "08eec0db-e899-42e8-cf94-d2924be08d27"
      },
      "execution_count": null,
      "outputs": [
        {
          "output_type": "stream",
          "name": "stdout",
          "text": [
            "<PrefetchDataset element_spec=(TensorSpec(shape=(None, 100, 200, 3), dtype=tf.float32, name=None), TensorSpec(shape=(None, 9), dtype=tf.int32, name=None))>\n",
            "<PrefetchDataset element_spec=(TensorSpec(shape=(None, 100, 200, 3), dtype=tf.float32, name=None), TensorSpec(shape=(None, 9), dtype=tf.int32, name=None))>\n"
          ]
        }
      ]
    },
    {
      "cell_type": "code",
      "source": [
        "from keras.models import Sequential\n",
        "from keras.layers import Dense, Activation, Dropout, Flatten\n",
        "from keras.layers.convolutional import Conv2D, MaxPooling2D"
      ],
      "metadata": {
        "id": "dUZgd1rDzrtO"
      },
      "execution_count": null,
      "outputs": []
    },
    {
      "cell_type": "code",
      "source": [
        "model = Sequential()\n",
        "\n",
        "model.add(Conv2D(224,(3,3), activation='relu', kernel_initializer='he_uniform', padding='same', input_shape=(100,200,3)))\n",
        "model.add(Conv2D(224,(3,3), activation='relu', kernel_initializer='he_uniform', padding='same'))\n",
        "model.add(MaxPooling2D(2,2))\n",
        "model.add(Conv2D(112,(3,3), activation='relu', kernel_initializer='he_uniform', padding='same'))\n",
        "model.add(Conv2D(112,(3,3), activation='relu', kernel_initializer='he_uniform', padding='same'))\n",
        "model.add(MaxPooling2D(2,2))\n",
        "model.add(Conv2D(64,(3,3), activation='relu', kernel_initializer='he_uniform', padding='same'))\n",
        "model.add(Conv2D(64,(3,3), activation='relu', kernel_initializer='he_uniform', padding='same'))\n",
        "model.add(MaxPooling2D(2,2))\n",
        "\n",
        "model.add(Flatten())\n",
        "model.add(Dense(32,activation='relu', kernel_initializer='he_uniform'))\n",
        "model.add(Dense(9,activation='softmax'))\n",
        "\n",
        "model.summary()"
      ],
      "metadata": {
        "colab": {
          "base_uri": "https://localhost:8080/"
        },
        "id": "fH99dro-eQgF",
        "outputId": "c899e7e6-1cee-42d7-b5cf-f2f906b0209c"
      },
      "execution_count": null,
      "outputs": [
        {
          "output_type": "stream",
          "name": "stdout",
          "text": [
            "Model: \"sequential_37\"\n",
            "_________________________________________________________________\n",
            " Layer (type)                Output Shape              Param #   \n",
            "=================================================================\n",
            " conv2d_155 (Conv2D)         (None, 100, 200, 224)     6272      \n",
            "                                                                 \n",
            " conv2d_156 (Conv2D)         (None, 100, 200, 224)     451808    \n",
            "                                                                 \n",
            " max_pooling2d_99 (MaxPoolin  (None, 50, 100, 224)     0         \n",
            " g2D)                                                            \n",
            "                                                                 \n",
            " conv2d_157 (Conv2D)         (None, 50, 100, 112)      225904    \n",
            "                                                                 \n",
            " conv2d_158 (Conv2D)         (None, 50, 100, 112)      113008    \n",
            "                                                                 \n",
            " max_pooling2d_100 (MaxPooli  (None, 25, 50, 112)      0         \n",
            " ng2D)                                                           \n",
            "                                                                 \n",
            " conv2d_159 (Conv2D)         (None, 25, 50, 64)        64576     \n",
            "                                                                 \n",
            " conv2d_160 (Conv2D)         (None, 25, 50, 64)        36928     \n",
            "                                                                 \n",
            " max_pooling2d_101 (MaxPooli  (None, 12, 25, 64)       0         \n",
            " ng2D)                                                           \n",
            "                                                                 \n",
            " flatten_37 (Flatten)        (None, 19200)             0         \n",
            "                                                                 \n",
            " dense_74 (Dense)            (None, 32)                614432    \n",
            "                                                                 \n",
            " dense_75 (Dense)            (None, 9)                 297       \n",
            "                                                                 \n",
            "=================================================================\n",
            "Total params: 1,513,225\n",
            "Trainable params: 1,513,225\n",
            "Non-trainable params: 0\n",
            "_________________________________________________________________\n"
          ]
        }
      ]
    },
    {
      "cell_type": "code",
      "source": [
        "# compile model\n",
        "model.compile(\n",
        "    optimizer='adam',\n",
        "    loss='categorical_crossentropy',\n",
        "    metrics=[\"accuracy\"]\n",
        ")"
      ],
      "metadata": {
        "id": "EksHbdZzeuUe"
      },
      "execution_count": null,
      "outputs": []
    },
    {
      "cell_type": "code",
      "source": [
        "# train model\n",
        "model.fit(train_ds, validation_data=val_ds, epochs=5)"
      ],
      "metadata": {
        "id": "ddAJuoqwfLDr"
      },
      "execution_count": null,
      "outputs": []
    },
    {
      "cell_type": "code",
      "source": [
        "import pickle\n",
        "file_name = \"moneymodel.sav\"\n",
        "pickle.dump(model, open(file_name, 'wb'))"
      ],
      "metadata": {
        "colab": {
          "base_uri": "https://localhost:8080/"
        },
        "id": "rvJ677sCfNqw",
        "outputId": "2a925dcd-87d2-4d2b-a796-25226561f591"
      },
      "execution_count": null,
      "outputs": [
        {
          "output_type": "stream",
          "name": "stdout",
          "text": [
            "INFO:tensorflow:Assets written to: ram://8184f8f4-1b17-42d2-a0ce-e79a814ad8c8/assets\n"
          ]
        }
      ]
    }
  ]
}