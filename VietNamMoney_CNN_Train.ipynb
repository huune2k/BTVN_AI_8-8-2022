{
  "nbformat": 4,
  "nbformat_minor": 0,
  "metadata": {
    "colab": {
      "name": "VietNamMoney_CNN_Train",
      "provenance": [],
      "collapsed_sections": [],
      "authorship_tag": "ABX9TyMJJhxJRTHRavme35Z/UEQw",
      "include_colab_link": true
    },
    "kernelspec": {
      "name": "python3",
      "display_name": "Python 3"
    },
    "language_info": {
      "name": "python"
    },
    "accelerator": "GPU"
  },
  "cells": [
    {
      "cell_type": "markdown",
      "metadata": {
        "id": "view-in-github",
        "colab_type": "text"
      },
      "source": [
        "<a href=\"https://colab.research.google.com/github/huune2k/BTVN_AI_8-8-2022/blob/AI_8-5-2022/VietNamMoney_CNN_Train.ipynb\" target=\"_parent\"><img src=\"https://colab.research.google.com/assets/colab-badge.svg\" alt=\"Open In Colab\"/></a>"
      ]
    },
    {
      "cell_type": "code",
      "execution_count": 1,
      "metadata": {
        "colab": {
          "base_uri": "https://localhost:8080/"
        },
        "id": "j5NcGHkSTG95",
        "outputId": "0d1f9cd4-0836-4ef6-c4a0-04116a592a86"
      },
      "outputs": [
        {
          "output_type": "stream",
          "name": "stdout",
          "text": [
            "Mounted at /content/gdrive\n"
          ]
        }
      ],
      "source": [
        "from google.colab import drive\n",
        "\n",
        "drive.mount('/content/gdrive')"
      ]
    },
    {
      "cell_type": "code",
      "source": [
        "import tensorflow as tf\n",
        "from pathlib import Path\n",
        "\n",
        "direction = Path('/content/gdrive/MyDrive/AI_TranTrongHuu_18146132/VietNamMoney_Data')"
      ],
      "metadata": {
        "id": "l9010rAYTHwA"
      },
      "execution_count": 2,
      "outputs": []
    },
    {
      "cell_type": "code",
      "source": [
        "# create dataset from file list \n",
        "filelist_ds = tf.data.Dataset.list_files(str(direction/'*/*'))\n",
        "\n",
        "ds_size = 540 #number of img\n",
        "train_size = int(ds_size*0.8)\n",
        "val_size = int(ds_size*0.2)\n",
        "\n",
        "filelist_ds = filelist_ds.shuffle(ds_size) #trộn\n",
        "train_file = filelist_ds.take(train_size) \n",
        "val_file = filelist_ds.take(val_size) \n",
        "\n",
        "for file in filelist_ds.take(3):\n",
        "  print(file)"
      ],
      "metadata": {
        "colab": {
          "base_uri": "https://localhost:8080/"
        },
        "id": "XFqyA6qxWZBl",
        "outputId": "f1a446cc-9b26-4976-df20-b748e0a6ddc8"
      },
      "execution_count": 3,
      "outputs": [
        {
          "output_type": "stream",
          "name": "stdout",
          "text": [
            "tf.Tensor(b'/content/gdrive/MyDrive/AI_TranTrongHuu_18146132/VietNamMoney_Data/500/500K 47.jpeg', shape=(), dtype=string)\n",
            "tf.Tensor(b'/content/gdrive/MyDrive/AI_TranTrongHuu_18146132/VietNamMoney_Data/5/5K 40.jpeg', shape=(), dtype=string)\n",
            "tf.Tensor(b'/content/gdrive/MyDrive/AI_TranTrongHuu_18146132/VietNamMoney_Data/50/50K 23.jpeg', shape=(), dtype=string)\n"
          ]
        }
      ]
    },
    {
      "cell_type": "code",
      "source": [
        "# gán label from dataset\n",
        "def get_label(file_path):\n",
        "  labels = []\n",
        "  parts = tf.strings.split(file_path,'/')\n",
        "  text = parts[-2]\n",
        "  text_split = tf.strings.split(text,'.')\n",
        "  number_label = int(text_split[0])\n",
        "  labels = [1 if x == number_label else 0 for x in range(1,10,1)]\n",
        "  return tf.convert_to_tensor(labels) "
      ],
      "metadata": {
        "id": "rkDf_BN-XSbG"
      },
      "execution_count": 4,
      "outputs": []
    },
    {
      "cell_type": "code",
      "source": [
        "#preprocessing\n",
        "img_h = 100\n",
        "img_w = 200\n",
        "\n",
        "def preprocessing(file_path):\n",
        "  #read file\n",
        "  img = tf.io.read_file(file_path)\n",
        "  img = tf.image.decode_jpeg(img, channels=3)\n",
        "\n",
        "  #convert from unit8 to float32 and normalize value to[0,1]\n",
        "  img = tf.image.convert_image_dtype(img, tf.float32)\n",
        "\n",
        "  #resize\n",
        "  img = tf.image.resize(img,[img_h, img_w])\n",
        "\n",
        "  #get image label\n",
        "  label = get_label(file_path)\n",
        "  return img, label"
      ],
      "metadata": {
        "id": "YwqO_NnEYd7g"
      },
      "execution_count": 5,
      "outputs": []
    },
    {
      "cell_type": "code",
      "source": [
        "import numpy as np\n",
        "\n",
        "batch_size = 32\n",
        "\n",
        "# Build train dataset\n",
        "train_ds = filelist_ds.shuffle(train_size)\n",
        "train_ds = train_ds.map(preprocessing, num_parallel_calls=tf.data.AUTOTUNE)\n",
        "#train_ds = train_ds.map(lambda x:tf.function(preprocessing, [x], [tf.float32,tf.int32]))\n",
        "train_ds = train_ds.batch(batch_size)\n",
        "train_ds = train_ds.prefetch(1)\n",
        "\n",
        "# Build val dataset\n",
        "val_ds = filelist_ds.shuffle(val_size)\n",
        "val_ds = val_ds.map(preprocessing, num_parallel_calls=tf.data.AUTOTUNE)\n",
        "#val_ds = val_ds.map(lambda x:tf.function(preprocessing, [x], [tf.float32,tf.int32]))\n",
        "val_ds = val_ds.batch(batch_size)\n",
        "val_ds = val_ds.prefetch(1)\n",
        "''' \n",
        "for file in train_ds.take(3):\n",
        "  print(file)  '''\n",
        "\n",
        "print(train_ds)\n",
        "print(val_ds)"
      ],
      "metadata": {
        "colab": {
          "base_uri": "https://localhost:8080/"
        },
        "id": "w97R0IvUdRak",
        "outputId": "3aaa65c9-002e-426d-f90d-d3914a88df2f"
      },
      "execution_count": 6,
      "outputs": [
        {
          "output_type": "stream",
          "name": "stdout",
          "text": [
            "<PrefetchDataset element_spec=(TensorSpec(shape=(None, 100, 200, 3), dtype=tf.float32, name=None), TensorSpec(shape=(None, 9), dtype=tf.int32, name=None))>\n",
            "<PrefetchDataset element_spec=(TensorSpec(shape=(None, 100, 200, 3), dtype=tf.float32, name=None), TensorSpec(shape=(None, 9), dtype=tf.int32, name=None))>\n"
          ]
        }
      ]
    },
    {
      "cell_type": "code",
      "source": [
        "from keras.models import Sequential\n",
        "from keras.layers import Dense, Activation, Dropout, Flatten\n",
        "from keras.layers.convolutional import Conv2D, MaxPooling2D"
      ],
      "metadata": {
        "id": "dUZgd1rDzrtO"
      },
      "execution_count": 7,
      "outputs": []
    },
    {
      "cell_type": "code",
      "source": [
        "model = Sequential()\n",
        "\n",
        "model.add(Conv2D(224,(3,3), activation='relu', kernel_initializer='he_uniform', padding='same', input_shape=(100,200,3)))\n",
        "model.add(Conv2D(224,(3,3), activation='relu', kernel_initializer='he_uniform', padding='same'))\n",
        "model.add(MaxPooling2D(2,2))\n",
        "model.add(Conv2D(112,(3,3), activation='relu', kernel_initializer='he_uniform', padding='same'))\n",
        "model.add(Conv2D(112,(3,3), activation='relu', kernel_initializer='he_uniform', padding='same'))\n",
        "model.add(MaxPooling2D(2,2))\n",
        "model.add(Conv2D(64,(3,3), activation='relu', kernel_initializer='he_uniform', padding='same'))\n",
        "model.add(Conv2D(64,(3,3), activation='relu', kernel_initializer='he_uniform', padding='same'))\n",
        "model.add(MaxPooling2D(2,2))\n",
        "\n",
        "model.add(Flatten())\n",
        "model.add(Dense(32,activation='relu', kernel_initializer='he_uniform'))\n",
        "model.add(Dense(9,activation='softmax'))\n",
        "\n",
        "model.summary()"
      ],
      "metadata": {
        "colab": {
          "base_uri": "https://localhost:8080/"
        },
        "id": "fH99dro-eQgF",
        "outputId": "23bd5140-3d6c-4410-fa47-a8cfe6271151"
      },
      "execution_count": 8,
      "outputs": [
        {
          "output_type": "stream",
          "name": "stdout",
          "text": [
            "Model: \"sequential\"\n",
            "_________________________________________________________________\n",
            " Layer (type)                Output Shape              Param #   \n",
            "=================================================================\n",
            " conv2d (Conv2D)             (None, 100, 200, 224)     6272      \n",
            "                                                                 \n",
            " conv2d_1 (Conv2D)           (None, 100, 200, 224)     451808    \n",
            "                                                                 \n",
            " max_pooling2d (MaxPooling2D  (None, 50, 100, 224)     0         \n",
            " )                                                               \n",
            "                                                                 \n",
            " conv2d_2 (Conv2D)           (None, 50, 100, 112)      225904    \n",
            "                                                                 \n",
            " conv2d_3 (Conv2D)           (None, 50, 100, 112)      113008    \n",
            "                                                                 \n",
            " max_pooling2d_1 (MaxPooling  (None, 25, 50, 112)      0         \n",
            " 2D)                                                             \n",
            "                                                                 \n",
            " conv2d_4 (Conv2D)           (None, 25, 50, 64)        64576     \n",
            "                                                                 \n",
            " conv2d_5 (Conv2D)           (None, 25, 50, 64)        36928     \n",
            "                                                                 \n",
            " max_pooling2d_2 (MaxPooling  (None, 12, 25, 64)       0         \n",
            " 2D)                                                             \n",
            "                                                                 \n",
            " flatten (Flatten)           (None, 19200)             0         \n",
            "                                                                 \n",
            " dense (Dense)               (None, 32)                614432    \n",
            "                                                                 \n",
            " dense_1 (Dense)             (None, 9)                 297       \n",
            "                                                                 \n",
            "=================================================================\n",
            "Total params: 1,513,225\n",
            "Trainable params: 1,513,225\n",
            "Non-trainable params: 0\n",
            "_________________________________________________________________\n"
          ]
        }
      ]
    },
    {
      "cell_type": "code",
      "source": [
        "# compile model\n",
        "model.compile(\n",
        "    optimizer='adam',\n",
        "    loss='categorical_crossentropy',\n",
        "    metrics=[\"accuracy\"]\n",
        ")"
      ],
      "metadata": {
        "id": "EksHbdZzeuUe"
      },
      "execution_count": 9,
      "outputs": []
    },
    {
      "cell_type": "code",
      "source": [
        "# train model\n",
        "model.fit(train_ds, validation_data=val_ds, epochs=5)"
      ],
      "metadata": {
        "id": "ddAJuoqwfLDr",
        "colab": {
          "base_uri": "https://localhost:8080/"
        },
        "outputId": "b4c15785-492d-468d-8400-12f567f2273c"
      },
      "execution_count": 10,
      "outputs": [
        {
          "output_type": "stream",
          "name": "stdout",
          "text": [
            "Epoch 1/5\n",
            "17/17 [==============================] - 65s 3s/step - loss: 1.9648 - accuracy: 0.1185 - val_loss: 9.6267 - val_accuracy: 0.0000e+00\n",
            "Epoch 2/5\n",
            "17/17 [==============================] - 7s 418ms/step - loss: 751.9394 - accuracy: 0.1481 - val_loss: 5413.1455 - val_accuracy: 0.1111\n",
            "Epoch 3/5\n",
            "17/17 [==============================] - 7s 422ms/step - loss: 206255.4375 - accuracy: 0.2889 - val_loss: 754326.2500 - val_accuracy: 0.0000e+00\n",
            "Epoch 4/5\n",
            "17/17 [==============================] - 7s 426ms/step - loss: 5917424.5000 - accuracy: 0.3111 - val_loss: 33309234.0000 - val_accuracy: 0.0000e+00\n",
            "Epoch 5/5\n",
            "17/17 [==============================] - 7s 435ms/step - loss: 183804272.0000 - accuracy: 0.2259 - val_loss: 640089408.0000 - val_accuracy: 0.1111\n"
          ]
        },
        {
          "output_type": "execute_result",
          "data": {
            "text/plain": [
              "<keras.callbacks.History at 0x7f27adc209d0>"
            ]
          },
          "metadata": {},
          "execution_count": 10
        }
      ]
    },
    {
      "cell_type": "code",
      "source": [
        "import pickle\n",
        "file_name = \"moneymodel.sav\"\n",
        "pickle.dump(model, open(file_name, 'wb'))"
      ],
      "metadata": {
        "colab": {
          "base_uri": "https://localhost:8080/"
        },
        "id": "rvJ677sCfNqw",
        "outputId": "1a0b67d4-ae0f-425c-fd23-75133af5472a"
      },
      "execution_count": 11,
      "outputs": [
        {
          "output_type": "stream",
          "name": "stdout",
          "text": [
            "INFO:tensorflow:Assets written to: ram://2649c521-2a50-4813-8cef-4ec080e31607/assets\n"
          ]
        }
      ]
    }
  ]
}