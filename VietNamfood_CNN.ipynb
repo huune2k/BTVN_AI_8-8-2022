{
  "nbformat": 4,
  "nbformat_minor": 0,
  "metadata": {
    "colab": {
      "name": "VietNamfood_CNN",
      "provenance": [],
      "authorship_tag": "ABX9TyMogRJODwtzOfJfGHhaFPDO",
      "include_colab_link": true
    },
    "kernelspec": {
      "name": "python3",
      "display_name": "Python 3"
    },
    "language_info": {
      "name": "python"
    }
  },
  "cells": [
    {
      "cell_type": "markdown",
      "metadata": {
        "id": "view-in-github",
        "colab_type": "text"
      },
      "source": [
        "<a href=\"https://colab.research.google.com/github/huune2k/BTVN_AI_8-8-2022/blob/AI_8-8-2022/VietNamfood_CNN.ipynb\" target=\"_parent\"><img src=\"https://colab.research.google.com/assets/colab-badge.svg\" alt=\"Open In Colab\"/></a>"
      ]
    },
    {
      "cell_type": "code",
      "execution_count": 19,
      "metadata": {
        "colab": {
          "base_uri": "https://localhost:8080/"
        },
        "id": "vw0AEG4C6LMx",
        "outputId": "2a684933-a879-4d53-d29c-4457f9f2be2c"
      },
      "outputs": [
        {
          "output_type": "stream",
          "name": "stdout",
          "text": [
            "Drive already mounted at /content/gdrive; to attempt to forcibly remount, call drive.mount(\"/content/gdrive\", force_remount=True).\n"
          ]
        }
      ],
      "source": [
        "from google.colab import drive\n",
        "drive.mount('/content/gdrive')"
      ]
    },
    {
      "cell_type": "code",
      "source": [
        "import tensorflow as tf\n",
        "from pathlib import Path\n",
        "\n",
        "direction = Path('/content/gdrive/MyDrive/VietNamFood/train')"
      ],
      "metadata": {
        "id": "8gzEn5dy6hGm"
      },
      "execution_count": 20,
      "outputs": []
    },
    {
      "cell_type": "code",
      "source": [
        "# create dataset from file list \n",
        "filelist_ds = tf.data.Dataset.list_files(str(direction/'*/*'))\n",
        "\n",
        "ds_size = 210 #number of img\n",
        "train_size = int(ds_size*0.8)\n",
        "val_size = int(ds_size*0.2)\n",
        "\n",
        "filelist_ds = filelist_ds.shuffle(ds_size) #trộn\n",
        "train_file = filelist_ds.take(train_size) \n",
        "val_file = filelist_ds.take(val_size) \n",
        "\n",
        "for file in filelist_ds.take(3):\n",
        "  print(file)"
      ],
      "metadata": {
        "colab": {
          "base_uri": "https://localhost:8080/"
        },
        "id": "j_kblOqK65Cw",
        "outputId": "5f46aaf3-c7dd-474f-eaef-e60c6476c1cc"
      },
      "execution_count": 21,
      "outputs": [
        {
          "output_type": "stream",
          "name": "stdout",
          "text": [
            "tf.Tensor(b'/content/gdrive/MyDrive/VietNamFood/train/MiGoi/24.jpeg', shape=(), dtype=string)\n",
            "tf.Tensor(b'/content/gdrive/MyDrive/VietNamFood/train/ComLam/22.jpeg', shape=(), dtype=string)\n",
            "tf.Tensor(b'/content/gdrive/MyDrive/VietNamFood/train/ComSuon/13.jpeg', shape=(), dtype=string)\n"
          ]
        }
      ]
    },
    {
      "cell_type": "code",
      "source": [
        "# gán label from dataset\n",
        "def get_label(file_path):\n",
        "  labels = []\n",
        "  parts = tf.strings.split(file_path,'/')\n",
        "  text = parts[-2]\n",
        "  text_split = tf.strings.split(text,'.')\n",
        "  number_label = int(text_split[0])\n",
        "  labels = [1 if x == number_label else 0 for x in range(1,8,1)]\n",
        "  return tf.convert_to_tensor(labels)"
      ],
      "metadata": {
        "id": "WJoy8bJv7BEi"
      },
      "execution_count": 22,
      "outputs": []
    },
    {
      "cell_type": "code",
      "source": [
        "#preprocessing\n",
        "img_h = 200\n",
        "img_w = 200\n",
        "\n",
        "def preprocessing(file_path):\n",
        "  #read file\n",
        "  img = tf.io.read_file(file_path)\n",
        "  img = tf.image.decode_jpeg(img, channels=3)\n",
        "\n",
        "  #convert from unit8 to float32 and normalize value to[0,1]\n",
        "  img = tf.image.convert_image_dtype(img, tf.float32)\n",
        "\n",
        "  #resize\n",
        "  img = tf.image.resize(img,[img_h, img_w])\n",
        "\n",
        "  #get image label\n",
        "  label = get_label(file_path)\n",
        "  return img, label"
      ],
      "metadata": {
        "id": "EBVtSG_07C_N"
      },
      "execution_count": 23,
      "outputs": []
    },
    {
      "cell_type": "code",
      "source": [
        "import numpy as np\n",
        "\n",
        "batch_size = 32\n",
        "\n",
        "# Build train dataset\n",
        "train_ds = filelist_ds.shuffle(train_size)\n",
        "train_ds = train_ds.map(preprocessing, num_parallel_calls=tf.data.AUTOTUNE)\n",
        "#train_ds = train_ds.map(lambda x:tf.function(preprocessing, [x], [tf.float32,tf.int32]))\n",
        "train_ds = train_ds.batch(batch_size)\n",
        "train_ds = train_ds.prefetch(1)\n",
        "\n",
        "# Build val dataset\n",
        "val_ds = filelist_ds.shuffle(val_size)\n",
        "val_ds = val_ds.map(preprocessing, num_parallel_calls=tf.data.AUTOTUNE)\n",
        "#val_ds = val_ds.map(lambda x:tf.function(preprocessing, [x], [tf.float32,tf.int32]))\n",
        "val_ds = val_ds.batch(batch_size)\n",
        "val_ds = val_ds.prefetch(1)\n",
        "''' \n",
        "for file in train_ds.take(3):\n",
        "  print(file)  '''\n",
        "\n",
        "print(train_ds)\n",
        "print(val_ds)"
      ],
      "metadata": {
        "colab": {
          "base_uri": "https://localhost:8080/"
        },
        "id": "ifFitwNZ7IWH",
        "outputId": "770a8732-1e4d-440b-9d5c-4646214b6f2e"
      },
      "execution_count": 24,
      "outputs": [
        {
          "output_type": "stream",
          "name": "stdout",
          "text": [
            "<PrefetchDataset element_spec=(TensorSpec(shape=(None, 200, 200, 3), dtype=tf.float32, name=None), TensorSpec(shape=(None, 7), dtype=tf.int32, name=None))>\n",
            "<PrefetchDataset element_spec=(TensorSpec(shape=(None, 200, 200, 3), dtype=tf.float32, name=None), TensorSpec(shape=(None, 7), dtype=tf.int32, name=None))>\n"
          ]
        }
      ]
    },
    {
      "cell_type": "code",
      "source": [
        "from keras.models import Sequential\n",
        "from keras.layers import Dense, Activation, Dropout, Flatten\n",
        "from keras.layers.convolutional import Conv2D, MaxPooling2D"
      ],
      "metadata": {
        "id": "L-1gTAfM7MoH"
      },
      "execution_count": 25,
      "outputs": []
    },
    {
      "cell_type": "code",
      "source": [
        "model = Sequential()\n",
        "\n",
        "model.add(Conv2D(224,(3,3), activation='relu', kernel_initializer='he_uniform', padding='same', input_shape=(200,200,3)))\n",
        "model.add(Conv2D(224,(3,3), activation='relu', kernel_initializer='he_uniform', padding='same'))\n",
        "model.add(MaxPooling2D(2,2))\n",
        "model.add(Conv2D(112,(3,3), activation='relu', kernel_initializer='he_uniform', padding='same'))\n",
        "model.add(Conv2D(112,(3,3), activation='relu', kernel_initializer='he_uniform', padding='same'))\n",
        "model.add(MaxPooling2D(2,2))\n",
        "model.add(Conv2D(64,(3,3), activation='relu', kernel_initializer='he_uniform', padding='same'))\n",
        "model.add(Conv2D(64,(3,3), activation='relu', kernel_initializer='he_uniform', padding='same'))\n",
        "model.add(MaxPooling2D(2,2))\n",
        "\n",
        "model.add(Flatten())\n",
        "model.add(Dense(32,activation='relu', kernel_initializer='he_uniform'))\n",
        "model.add(Dense(7,activation='softmax'))\n",
        "\n",
        "model.summary()"
      ],
      "metadata": {
        "colab": {
          "base_uri": "https://localhost:8080/"
        },
        "id": "7el-0sPt7lvr",
        "outputId": "cc5b2fe1-b539-45b2-fdc3-b9a847e8e009"
      },
      "execution_count": 26,
      "outputs": [
        {
          "output_type": "stream",
          "name": "stdout",
          "text": [
            "Model: \"sequential_3\"\n",
            "_________________________________________________________________\n",
            " Layer (type)                Output Shape              Param #   \n",
            "=================================================================\n",
            " conv2d_18 (Conv2D)          (None, 200, 200, 224)     6272      \n",
            "                                                                 \n",
            " conv2d_19 (Conv2D)          (None, 200, 200, 224)     451808    \n",
            "                                                                 \n",
            " max_pooling2d_9 (MaxPooling  (None, 100, 100, 224)    0         \n",
            " 2D)                                                             \n",
            "                                                                 \n",
            " conv2d_20 (Conv2D)          (None, 100, 100, 112)     225904    \n",
            "                                                                 \n",
            " conv2d_21 (Conv2D)          (None, 100, 100, 112)     113008    \n",
            "                                                                 \n",
            " max_pooling2d_10 (MaxPoolin  (None, 50, 50, 112)      0         \n",
            " g2D)                                                            \n",
            "                                                                 \n",
            " conv2d_22 (Conv2D)          (None, 50, 50, 64)        64576     \n",
            "                                                                 \n",
            " conv2d_23 (Conv2D)          (None, 50, 50, 64)        36928     \n",
            "                                                                 \n",
            " max_pooling2d_11 (MaxPoolin  (None, 25, 25, 64)       0         \n",
            " g2D)                                                            \n",
            "                                                                 \n",
            " flatten_3 (Flatten)         (None, 40000)             0         \n",
            "                                                                 \n",
            " dense_6 (Dense)             (None, 32)                1280032   \n",
            "                                                                 \n",
            " dense_7 (Dense)             (None, 7)                 231       \n",
            "                                                                 \n",
            "=================================================================\n",
            "Total params: 2,178,759\n",
            "Trainable params: 2,178,759\n",
            "Non-trainable params: 0\n",
            "_________________________________________________________________\n"
          ]
        }
      ]
    },
    {
      "cell_type": "code",
      "source": [
        "# compile model\n",
        "model.compile(\n",
        "    optimizer='adam',\n",
        "    loss='categorical_crossentropy',\n",
        "    metrics=[\"accuracy\"]\n",
        ")"
      ],
      "metadata": {
        "id": "nqQYIStr7o5U"
      },
      "execution_count": 27,
      "outputs": []
    },
    {
      "cell_type": "code",
      "source": [
        "# train model\n",
        "model.fit(train_ds, validation_data=val_ds, epochs=5)"
      ],
      "metadata": {
        "id": "secItL8u7tPr"
      },
      "execution_count": null,
      "outputs": []
    },
    {
      "cell_type": "code",
      "source": [
        ""
      ],
      "metadata": {
        "id": "4emO3Ybe7uq6"
      },
      "execution_count": null,
      "outputs": []
    }
  ]
}